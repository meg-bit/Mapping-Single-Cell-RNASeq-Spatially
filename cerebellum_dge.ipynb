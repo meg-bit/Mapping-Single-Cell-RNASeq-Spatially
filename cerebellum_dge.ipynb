{
 "cells": [
  {
   "cell_type": "code",
   "execution_count": 1,
   "metadata": {
    "id": "WGdP3Wry3MEa"
   },
   "outputs": [],
   "source": [
    "import os\n",
    "import numpy as np\n",
    "import pandas as pd\n",
    "import matplotlib.pyplot as plt\n",
    "import seaborn as sns\n",
    "import scanpy as sc"
   ]
  },
  {
   "cell_type": "markdown",
   "metadata": {
    "id": "1-139sibq6zF"
   },
   "source": [
    "## Load data"
   ]
  },
  {
   "cell_type": "code",
   "execution_count": 2,
   "metadata": {
    "colab": {
     "base_uri": "https://localhost:8080/",
     "height": 204
    },
    "id": "S89ksT-vX9t6",
    "outputId": "4e49a5a9-a63a-4cec-e277-410b71a06a1b"
   },
   "outputs": [
    {
     "data": {
      "text/plain": [
       "AnnData object with n_obs × n_vars = 26139 × 2505\n",
       "    obs: 'cluster', 'subcluster'\n",
       "    uns: 'log1p'"
      ]
     },
     "execution_count": 2,
     "metadata": {},
     "output_type": "execute_result"
    }
   ],
   "source": [
    "path = os.path.join('data', 'corrected_ad_sc.h5ad')\n",
    "ad_sc = sc.read_h5ad(path)\n",
    "sc.pp.normalize_total(ad_sc)\n",
    "sc.pp.log1p(ad_sc)\n",
    "ad_sc"
   ]
  },
  {
   "cell_type": "markdown",
   "metadata": {
    "id": "vce-lB3Yv37U"
   },
   "source": [
    "## Get marker genes for each cluster"
   ]
  },
  {
   "cell_type": "code",
   "execution_count": 3,
   "metadata": {
    "id": "kaGGV8KQwdri"
   },
   "outputs": [],
   "source": [
    "# t-test is used because data is already normalized\n",
    "# and it was shown previously that t-test performs better\n",
    "# than non-parametric test\n",
    "sc.tl.rank_genes_groups(ad_sc, \n",
    "                        groupby='cluster', \n",
    "                        method='t-test', \n",
    "                        n_genes=ad_sc.shape[1])"
   ]
  },
  {
   "cell_type": "code",
   "execution_count": 4,
   "metadata": {},
   "outputs": [],
   "source": [
    "# sc.pl.rank_genes_groups(ad_sc, n_genes=15, sharey=False, ncols=3)"
   ]
  },
  {
   "cell_type": "code",
   "execution_count": 5,
   "metadata": {},
   "outputs": [
    {
     "data": {
      "text/html": [
       "<div>\n",
       "<style scoped>\n",
       "    .dataframe tbody tr th:only-of-type {\n",
       "        vertical-align: middle;\n",
       "    }\n",
       "\n",
       "    .dataframe tbody tr th {\n",
       "        vertical-align: top;\n",
       "    }\n",
       "\n",
       "    .dataframe thead th {\n",
       "        text-align: right;\n",
       "    }\n",
       "</style>\n",
       "<table border=\"1\" class=\"dataframe\">\n",
       "  <thead>\n",
       "    <tr style=\"text-align: right;\">\n",
       "      <th></th>\n",
       "      <th>Astrocytes</th>\n",
       "      <th>Bergmann Glia</th>\n",
       "      <th>Choroid Plexus</th>\n",
       "      <th>Endothelial Stalk</th>\n",
       "      <th>Granular</th>\n",
       "      <th>Microglia</th>\n",
       "      <th>Muraland Tip</th>\n",
       "      <th>Oligo- Poly-dendrocyte</th>\n",
       "      <th>Other Interneurons</th>\n",
       "      <th>PV Interneurons</th>\n",
       "      <th>Purkinje</th>\n",
       "    </tr>\n",
       "  </thead>\n",
       "  <tbody>\n",
       "    <tr>\n",
       "      <th>0</th>\n",
       "      <td>Apoe</td>\n",
       "      <td>Slc1a3</td>\n",
       "      <td>1500015O10Rik</td>\n",
       "      <td>Bsg</td>\n",
       "      <td>Neurod1</td>\n",
       "      <td>Tmsb4x</td>\n",
       "      <td>Cst3</td>\n",
       "      <td>Plp1</td>\n",
       "      <td>Atp1b1</td>\n",
       "      <td>Pvalb</td>\n",
       "      <td>Car8</td>\n",
       "    </tr>\n",
       "    <tr>\n",
       "      <th>1</th>\n",
       "      <td>Atp1a2</td>\n",
       "      <td>Sparcl1</td>\n",
       "      <td>Apoe</td>\n",
       "      <td>Pltp</td>\n",
       "      <td>Snap25</td>\n",
       "      <td>C1qb</td>\n",
       "      <td>Sparc</td>\n",
       "      <td>Enpp2</td>\n",
       "      <td>Gnas</td>\n",
       "      <td>Atp1b1</td>\n",
       "      <td>Itpr1</td>\n",
       "    </tr>\n",
       "    <tr>\n",
       "      <th>2</th>\n",
       "      <td>Mt1</td>\n",
       "      <td>Atp1a2</td>\n",
       "      <td>Clu</td>\n",
       "      <td>Tmsb4x</td>\n",
       "      <td>Chn2</td>\n",
       "      <td>C1qc</td>\n",
       "      <td>Cald1</td>\n",
       "      <td>Cnp</td>\n",
       "      <td>App</td>\n",
       "      <td>Slc24a2</td>\n",
       "      <td>Pcp4</td>\n",
       "    </tr>\n",
       "    <tr>\n",
       "      <th>3</th>\n",
       "      <td>Aqp4</td>\n",
       "      <td>Aldoc</td>\n",
       "      <td>Pcp4l1</td>\n",
       "      <td>Ly6c1</td>\n",
       "      <td>Rbfox3</td>\n",
       "      <td>Cst3</td>\n",
       "      <td>Atp1a2</td>\n",
       "      <td>Mag</td>\n",
       "      <td>Ttc3</td>\n",
       "      <td>Cacng2</td>\n",
       "      <td>Pvalb</td>\n",
       "    </tr>\n",
       "    <tr>\n",
       "      <th>4</th>\n",
       "      <td>Sparcl1</td>\n",
       "      <td>Apoe</td>\n",
       "      <td>Dbi</td>\n",
       "      <td>Itm2a</td>\n",
       "      <td>Stmn2</td>\n",
       "      <td>C1qa</td>\n",
       "      <td>Igfbp7</td>\n",
       "      <td>Trf</td>\n",
       "      <td>Syt1</td>\n",
       "      <td>Slc6a1</td>\n",
       "      <td>Calb1</td>\n",
       "    </tr>\n",
       "    <tr>\n",
       "      <th>...</th>\n",
       "      <td>...</td>\n",
       "      <td>...</td>\n",
       "      <td>...</td>\n",
       "      <td>...</td>\n",
       "      <td>...</td>\n",
       "      <td>...</td>\n",
       "      <td>...</td>\n",
       "      <td>...</td>\n",
       "      <td>...</td>\n",
       "      <td>...</td>\n",
       "      <td>...</td>\n",
       "    </tr>\n",
       "    <tr>\n",
       "      <th>95</th>\n",
       "      <td>Sepp1</td>\n",
       "      <td>Add3</td>\n",
       "      <td>Mpp5</td>\n",
       "      <td>Sh3glb1</td>\n",
       "      <td>Pax6</td>\n",
       "      <td>Smap2</td>\n",
       "      <td>Nudt4</td>\n",
       "      <td>Cd59a</td>\n",
       "      <td>Osbpl1a</td>\n",
       "      <td>Camta1</td>\n",
       "      <td>Wwp1</td>\n",
       "    </tr>\n",
       "    <tr>\n",
       "      <th>96</th>\n",
       "      <td>Slc2a1</td>\n",
       "      <td>Rgs7bp</td>\n",
       "      <td>Dynlt3</td>\n",
       "      <td>Golim4</td>\n",
       "      <td>Erc1</td>\n",
       "      <td>Snx6</td>\n",
       "      <td>Utrn</td>\n",
       "      <td>Ypel2</td>\n",
       "      <td>Nrsn1</td>\n",
       "      <td>Hecw1</td>\n",
       "      <td>Tmem64</td>\n",
       "    </tr>\n",
       "    <tr>\n",
       "      <th>97</th>\n",
       "      <td>Them4</td>\n",
       "      <td>Fermt2</td>\n",
       "      <td>Sod3</td>\n",
       "      <td>Fn1</td>\n",
       "      <td>Rragd</td>\n",
       "      <td>Hspa5</td>\n",
       "      <td>Rpl13a</td>\n",
       "      <td>Pard3</td>\n",
       "      <td>Cox7b</td>\n",
       "      <td>Zc3h13</td>\n",
       "      <td>Celf2</td>\n",
       "    </tr>\n",
       "    <tr>\n",
       "      <th>98</th>\n",
       "      <td>Itih5</td>\n",
       "      <td>Gatm</td>\n",
       "      <td>Plekhb1</td>\n",
       "      <td>Tmem50a</td>\n",
       "      <td>Cox7a2</td>\n",
       "      <td>Rpl4</td>\n",
       "      <td>Plxdc2</td>\n",
       "      <td>Mpp5</td>\n",
       "      <td>Strbp</td>\n",
       "      <td>Nrsn1</td>\n",
       "      <td>Tspan2</td>\n",
       "    </tr>\n",
       "    <tr>\n",
       "      <th>99</th>\n",
       "      <td>Slc38a1</td>\n",
       "      <td>Agt</td>\n",
       "      <td>Sdpr</td>\n",
       "      <td>Nes</td>\n",
       "      <td>Nap1l2</td>\n",
       "      <td>Zc3h7a</td>\n",
       "      <td>Tsc22d1</td>\n",
       "      <td>Pdgfa</td>\n",
       "      <td>Nav1</td>\n",
       "      <td>Pbx1</td>\n",
       "      <td>Emc7</td>\n",
       "    </tr>\n",
       "  </tbody>\n",
       "</table>\n",
       "<p>100 rows × 11 columns</p>\n",
       "</div>"
      ],
      "text/plain": [
       "   Astrocytes Bergmann Glia Choroid Plexus Endothelial Stalk Granular  \\\n",
       "0        Apoe        Slc1a3  1500015O10Rik               Bsg  Neurod1   \n",
       "1      Atp1a2       Sparcl1           Apoe              Pltp   Snap25   \n",
       "2         Mt1        Atp1a2            Clu            Tmsb4x     Chn2   \n",
       "3        Aqp4         Aldoc         Pcp4l1             Ly6c1   Rbfox3   \n",
       "4     Sparcl1          Apoe            Dbi             Itm2a    Stmn2   \n",
       "..        ...           ...            ...               ...      ...   \n",
       "95      Sepp1          Add3           Mpp5           Sh3glb1     Pax6   \n",
       "96     Slc2a1        Rgs7bp         Dynlt3            Golim4     Erc1   \n",
       "97      Them4        Fermt2           Sod3               Fn1    Rragd   \n",
       "98      Itih5          Gatm        Plekhb1           Tmem50a   Cox7a2   \n",
       "99    Slc38a1           Agt           Sdpr               Nes   Nap1l2   \n",
       "\n",
       "   Microglia Muraland Tip Oligo- Poly-dendrocyte Other Interneurons  \\\n",
       "0     Tmsb4x         Cst3                   Plp1             Atp1b1   \n",
       "1       C1qb        Sparc                  Enpp2               Gnas   \n",
       "2       C1qc        Cald1                    Cnp                App   \n",
       "3       Cst3       Atp1a2                    Mag               Ttc3   \n",
       "4       C1qa       Igfbp7                    Trf               Syt1   \n",
       "..       ...          ...                    ...                ...   \n",
       "95     Smap2        Nudt4                  Cd59a            Osbpl1a   \n",
       "96      Snx6         Utrn                  Ypel2              Nrsn1   \n",
       "97     Hspa5       Rpl13a                  Pard3              Cox7b   \n",
       "98      Rpl4       Plxdc2                   Mpp5              Strbp   \n",
       "99    Zc3h7a      Tsc22d1                  Pdgfa               Nav1   \n",
       "\n",
       "   PV Interneurons Purkinje  \n",
       "0            Pvalb     Car8  \n",
       "1           Atp1b1    Itpr1  \n",
       "2          Slc24a2     Pcp4  \n",
       "3           Cacng2    Pvalb  \n",
       "4           Slc6a1    Calb1  \n",
       "..             ...      ...  \n",
       "95          Camta1     Wwp1  \n",
       "96           Hecw1   Tmem64  \n",
       "97          Zc3h13    Celf2  \n",
       "98           Nrsn1   Tspan2  \n",
       "99            Pbx1     Emc7  \n",
       "\n",
       "[100 rows x 11 columns]"
      ]
     },
     "execution_count": 5,
     "metadata": {},
     "output_type": "execute_result"
    }
   ],
   "source": [
    "df_genes = pd.DataFrame(ad_sc.uns['rank_genes_groups']['names']).head(100)\n",
    "df_genes"
   ]
  },
  {
   "cell_type": "code",
   "execution_count": 6,
   "metadata": {},
   "outputs": [],
   "source": [
    "# df_genes.head(2).values.flatten()"
   ]
  },
  {
   "cell_type": "code",
   "execution_count": 7,
   "metadata": {},
   "outputs": [],
   "source": [
    "# df_genes.to_csv('data/puck_markers100.csv')"
   ]
  }
 ],
 "metadata": {
  "colab": {
   "collapsed_sections": [],
   "name": "preprocessing4nichenet.ipynb",
   "provenance": []
  },
  "kernelspec": {
   "display_name": "base",
   "language": "python",
   "name": "base"
  },
  "language_info": {
   "codemirror_mode": {
    "name": "ipython",
    "version": 3
   },
   "file_extension": ".py",
   "mimetype": "text/x-python",
   "name": "python",
   "nbconvert_exporter": "python",
   "pygments_lexer": "ipython3",
   "version": "3.8.3"
  }
 },
 "nbformat": 4,
 "nbformat_minor": 1
}
